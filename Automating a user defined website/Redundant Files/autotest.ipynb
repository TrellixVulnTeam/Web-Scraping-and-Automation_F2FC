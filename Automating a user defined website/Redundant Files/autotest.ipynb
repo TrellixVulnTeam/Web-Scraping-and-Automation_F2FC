{
 "cells": [
  {
   "cell_type": "code",
   "execution_count": 1,
   "metadata": {},
   "outputs": [],
   "source": [
    "import pandas as pd"
   ]
  },
  {
   "cell_type": "code",
   "execution_count": 2,
   "metadata": {},
   "outputs": [],
   "source": [
    "df = pd.read_csv('data.csv')"
   ]
  },
  {
   "cell_type": "code",
   "execution_count": 3,
   "metadata": {},
   "outputs": [
    {
     "data": {
      "text/html": [
       "<div>\n",
       "<style scoped>\n",
       "    .dataframe tbody tr th:only-of-type {\n",
       "        vertical-align: middle;\n",
       "    }\n",
       "\n",
       "    .dataframe tbody tr th {\n",
       "        vertical-align: top;\n",
       "    }\n",
       "\n",
       "    .dataframe thead th {\n",
       "        text-align: right;\n",
       "    }\n",
       "</style>\n",
       "<table border=\"1\" class=\"dataframe\">\n",
       "  <thead>\n",
       "    <tr style=\"text-align: right;\">\n",
       "      <th></th>\n",
       "      <th>Name</th>\n",
       "      <th>Email</th>\n",
       "      <th>Organization</th>\n",
       "      <th>Days</th>\n",
       "      <th>Dietary restrictions</th>\n",
       "      <th>Payment</th>\n",
       "    </tr>\n",
       "  </thead>\n",
       "  <tbody>\n",
       "    <tr>\n",
       "      <th>0</th>\n",
       "      <td>Salman Khan</td>\n",
       "      <td>salman@gmail.com</td>\n",
       "      <td>Bollywood</td>\n",
       "      <td>Day 1</td>\n",
       "      <td>None</td>\n",
       "      <td>Yes</td>\n",
       "    </tr>\n",
       "    <tr>\n",
       "      <th>1</th>\n",
       "      <td>Aamir Khan</td>\n",
       "      <td>aamir@yahoo.com</td>\n",
       "      <td>Hollywood</td>\n",
       "      <td>Day 2</td>\n",
       "      <td>Vegetarian</td>\n",
       "      <td>Yes</td>\n",
       "    </tr>\n",
       "    <tr>\n",
       "      <th>2</th>\n",
       "      <td>Akshay Kumar</td>\n",
       "      <td>akshay@microsoft.com</td>\n",
       "      <td>Tollywood</td>\n",
       "      <td>Day 3</td>\n",
       "      <td>Kosher</td>\n",
       "      <td>Yes</td>\n",
       "    </tr>\n",
       "    <tr>\n",
       "      <th>3</th>\n",
       "      <td>Deepika Padukone</td>\n",
       "      <td>deepika@rediff.com</td>\n",
       "      <td>Kollywood</td>\n",
       "      <td>Day 1</td>\n",
       "      <td>Gluten-free</td>\n",
       "      <td>Yes</td>\n",
       "    </tr>\n",
       "  </tbody>\n",
       "</table>\n",
       "</div>"
      ],
      "text/plain": [
       "               Name                 Email Organization   Days  \\\n",
       "0       Salman Khan      salman@gmail.com    Bollywood  Day 1   \n",
       "1        Aamir Khan       aamir@yahoo.com    Hollywood  Day 2   \n",
       "2      Akshay Kumar  akshay@microsoft.com    Tollywood  Day 3   \n",
       "3  Deepika Padukone    deepika@rediff.com    Kollywood  Day 1   \n",
       "\n",
       "  Dietary restrictions Payment  \n",
       "0                 None     Yes  \n",
       "1           Vegetarian     Yes  \n",
       "2               Kosher     Yes  \n",
       "3          Gluten-free     Yes  "
      ]
     },
     "execution_count": 3,
     "metadata": {},
     "output_type": "execute_result"
    }
   ],
   "source": [
    "df"
   ]
  },
  {
   "cell_type": "code",
   "execution_count": 8,
   "metadata": {},
   "outputs": [
    {
     "data": {
      "text/plain": [
       "'Salman Khan'"
      ]
     },
     "execution_count": 8,
     "metadata": {},
     "output_type": "execute_result"
    }
   ],
   "source": [
    "d = df.loc[0]\n",
    "d['Name']"
   ]
  },
  {
   "cell_type": "code",
   "execution_count": 9,
   "metadata": {},
   "outputs": [],
   "source": [
    "dietary_dict = {\n",
    "    \"None\": \"1\",\n",
    "    \"Vegetarian\": \"2\",\n",
    "    \"Vegan\": \"3\",\n",
    "    \"Kosher\": \"4\",\n",
    "    \"Gluten-free\": \"5\",\n",
    "    \"Other\": \"xx\"\n",
    "}\n",
    "df['Dietary restrictions'].replace(dietary_dict, inplace=True)"
   ]
  },
  {
   "cell_type": "code",
   "execution_count": 15,
   "metadata": {},
   "outputs": [],
   "source": [
    "days_dict = {\n",
    "    \"Day 1\":\"1\",\n",
    "    \"Day 2\":\"2\",\n",
    "    \"Day 3\":\"3\"\n",
    "}\n",
    "df['Days'].replace(days_dict, inplace=True)"
   ]
  },
  {
   "cell_type": "code",
   "execution_count": 28,
   "metadata": {},
   "outputs": [
    {
     "name": "stdout",
     "output_type": "stream",
     "text": [
      "Name                         Salman Khan\n",
      "Email                   salman@gmail.com\n",
      "Organization                   Bollywood\n",
      "Days                                   1\n",
      "Dietary restrictions                   1\n",
      "Payment                              Yes\n",
      "Name: 0, dtype: object\n",
      "Name                         Aamir Khan\n",
      "Email                   aamir@yahoo.com\n",
      "Organization                  Hollywood\n",
      "Days                                  2\n",
      "Dietary restrictions                  2\n",
      "Payment                             Yes\n",
      "Name: 1, dtype: object\n",
      "Name                            Akshay Kumar\n",
      "Email                   akshay@microsoft.com\n",
      "Organization                       Tollywood\n",
      "Days                                       3\n",
      "Dietary restrictions                       4\n",
      "Payment                                  Yes\n",
      "Name: 2, dtype: object\n",
      "Name                      Deepika Padukone\n",
      "Email                   deepika@rediff.com\n",
      "Organization                     Kollywood\n",
      "Days                                     1\n",
      "Dietary restrictions                     5\n",
      "Payment                                Yes\n",
      "Name: 3, dtype: object\n"
     ]
    }
   ],
   "source": [
    "for i in range(0,df.shape[0]):\n",
    "    print(df.loc[i])"
   ]
  },
  {
   "cell_type": "code",
   "execution_count": 31,
   "metadata": {},
   "outputs": [
    {
     "name": "stdout",
     "output_type": "stream",
     "text": [
      "{'Referer': 'https://google.com', 'X-Forwarded-For': '47.29.76.109', 'User-Agent': 'Mozilla/5.0 (Linux; Android 7.1.1; CPH1723 Build/N6F26Q; wv) AppleWebKit/537.36 (KHTML, like Gecko) Version/4.0 Chrome/67.0.3396.87 Mobile Safari/537.36'}\n",
      "{'Referer': 'https://yahoo.com', 'X-Forwarded-For': '47.29.76.239', 'User-Agent': 'Mozilla/5.0 (Linux; Android 7.1.1; CPH1723 Build/N6F26Q; wv) AppleWebKit/537.36 (KHTML, like Gecko) Version/4.0 Chrome/67.0.3396.87 Mobile Safari/537.36'}\n",
      "{'Referer': 'https://google.com', 'X-Forwarded-For': '47.29.30.157', 'User-Agent': 'Mozilla/5.0 (Linux; Android 7.0; SM-J701F Build/NRD90M; wv) AppleWebKit/537.36 (KHTML, like Gecko) Version/4.0 Chrome/67.0.3396.87 Mobile Safari/537.36'}\n",
      "{'Referer': 'https://yahoo.com', 'X-Forwarded-For': '42.106.0.185', 'User-Agent': 'Mozilla/5.0 (Linux; U; Android 4.2.2; en-us; iBall_Andi4.5_Ripple Build/JDQ39) AppleWebKit/534.30 (KHTML, like Gecko) Version/4.0 Mobile Safari/534.30'}\n",
      "{'Referer': 'https://google.com', 'X-Forwarded-For': '106.207.113.91', 'User-Agent': 'Mozilla/5.0 (Linux; Android 7.0; Moto G (5) Plus Build/NPN25.137-67-5; wv) AppleWebKit/537.36 (KHTML, like Gecko) Version/4.0 Chrome/64.0.3282.137 Mobile Safari/537.36'}\n"
     ]
    }
   ],
   "source": [
    "def automation():\n",
    "    headers = pd.read_excel('header.xlsx')\n",
    "    for i in range(0,headers.shape[0]):\n",
    "        dict = {}\n",
    "        header = headers.loc[i]\n",
    "        dict['Referer'] = header['Referrer']\n",
    "        dict[header['Option']] = header['IP']\n",
    "        dict['User-Agent'] = header['USERAGENT']\n",
    "        print(dict)\n",
    "        \n",
    "        \n",
    "        data = pd.read_csv('data.csv')\n",
    "        for j in range(0,data.shape[0]):\n",
    "            datum = data.loc[j]\n",
    "            formFilling(driver,datum)\n",
    "    return None    \n",
    "automation()"
   ]
  },
  {
   "cell_type": "code",
   "execution_count": 20,
   "metadata": {},
   "outputs": [],
   "source": [
    "def formFilling(driver,data):\n",
    "    # NAME\n",
    "    driver.find_element_by_xpath('//*[@id=\"mG61Hd\"]/div/div[2]/div[2]/div[1]/div/div[2]/div/div[1]/div/div[1]/input').send_keys(data['Name'])\n",
    "    \n",
    "    # EMAIL\n",
    "    driver.find_element_by_xpath('//*[@id=\"mG61Hd\"]/div/div[2]/div[2]/div[2]/div/div[2]/div/div[1]/div/div[1]/input').send_keys(data['Email'])\n",
    "    \n",
    "    # ORGANISATION\n",
    "    driver.find_element_by_xpath('//*[@id=\"mG61Hd\"]/div/div[2]/div[2]/div[3]/div/div[2]/div/div[1]/div/div[1]/input').send_keys(data['Organization'])\n",
    "    \n",
    "    # ATTENDANCE DAY \n",
    "    attendance_xpath = '//*[@id=\"mG61Hd\"]/div/div[2]/div[2]/div[4]/div/div[2]/div[' + data['Days'] + ']/div/label'\n",
    "    # Working Examples:\n",
    "    # //*[@id=\"mG61Hd\"]/div/div[2]/div[2]/div[4]/div/div[2]/div[1]/div/label\n",
    "    # //*[@id=\"mG61Hd\"]/div/div[2]/div[2]/div[4]/div/div[2]/div[2]/div/label\n",
    "    # //*[@id=\"mG61Hd\"]/div/div[2]/div[2]/div[4]/div/div[2]/div[3]/div/label\n",
    "    driver.find_element_by_xpath(attendance_xpath).click()\n",
    "    \n",
    "    # DIETARY RESTRICTION\n",
    "    # //*[@id=\"mG61Hd\"]/div/div[2]/div[2]/div[5]/div/div[2]/div/content/div/label[1]\n",
    "    # //*[@id=\"mG61Hd\"]/div/div[2]/div[2]/div[5]/div/div[2]/div/content/div/label[2]\n",
    "    # Other Option\n",
    "    # //*[@id=\"mG61Hd\"]/div/div[2]/div[2]/div[5]/div/div[2]/div/content/div/div\n",
    "    # //*[@id=\"mG61Hd\"]/div/div[2]/div[2]/div[5]/div/div[2]/div/content/div/div/div/content/div/div/div[1]/input\n",
    "    if data['Dietary restrictions'] == 'xx':\n",
    "        driver.find_element_by_xpath('//*[@id=\"mG61Hd\"]/div/div[2]/div[2]/div[5]/div/div[2]/div/content/div/div/label/div/div[1]/div[3]/div').click()\n",
    "        # Input Field\n",
    "        driver.find_element_by_xpath('//*[@id=\"mG61Hd\"]/div/div[2]/div[2]/div[5]/div/div[2]/div/content/div/div/div/content/div/div/div[1]/input').send_keys('None Provided')\n",
    "    else:    \n",
    "        dietary_xpath = '//*[@id=\"mG61Hd\"]/div/div[2]/div[2]/div[5]/div/div[2]/div/content/div/label['+ data['Dietary restrictions'] +']'\n",
    "        driver.find_element_by_xpath('').click()\n",
    "        \n",
    "    # PAY $$ ON ARRIVAL\n",
    "    driver.find_element_by_xpath('//*[@id=\"mG61Hd\"]/div/div[2]/div[2]/div[6]/div/div[2]/div/div/label').click()\n",
    "    \n",
    "    # SUBMIT\n",
    "    driver.find_element_by_xpath('//*[@id=\"mG61Hd\"]/div/div[2]/div[3]/div[1]/div/div/content/span').click()\n",
    "    \n",
    "    return None"
   ]
  },
  {
   "cell_type": "code",
   "execution_count": 32,
   "metadata": {},
   "outputs": [
    {
     "data": {
      "text/html": [
       "<div>\n",
       "<style scoped>\n",
       "    .dataframe tbody tr th:only-of-type {\n",
       "        vertical-align: middle;\n",
       "    }\n",
       "\n",
       "    .dataframe tbody tr th {\n",
       "        vertical-align: top;\n",
       "    }\n",
       "\n",
       "    .dataframe thead th {\n",
       "        text-align: right;\n",
       "    }\n",
       "</style>\n",
       "<table border=\"1\" class=\"dataframe\">\n",
       "  <thead>\n",
       "    <tr style=\"text-align: right;\">\n",
       "      <th></th>\n",
       "      <th>ID</th>\n",
       "      <th>Option</th>\n",
       "      <th>IP</th>\n",
       "      <th>USERAGENT</th>\n",
       "      <th>Referrer</th>\n",
       "      <th>WaitInSecs</th>\n",
       "    </tr>\n",
       "  </thead>\n",
       "  <tbody>\n",
       "    <tr>\n",
       "      <th>0</th>\n",
       "      <td>1</td>\n",
       "      <td>X-Forwarded-For</td>\n",
       "      <td>47.29.76.109</td>\n",
       "      <td>Mozilla/5.0 (Linux; Android 7.1.1; CPH1723 Bui...</td>\n",
       "      <td>https://google.com</td>\n",
       "      <td>1</td>\n",
       "    </tr>\n",
       "    <tr>\n",
       "      <th>1</th>\n",
       "      <td>2</td>\n",
       "      <td>X-Forwarded-For</td>\n",
       "      <td>47.29.76.239</td>\n",
       "      <td>Mozilla/5.0 (Linux; Android 7.1.1; CPH1723 Bui...</td>\n",
       "      <td>https://yahoo.com</td>\n",
       "      <td>1</td>\n",
       "    </tr>\n",
       "    <tr>\n",
       "      <th>2</th>\n",
       "      <td>3</td>\n",
       "      <td>X-Forwarded-For</td>\n",
       "      <td>47.29.30.157</td>\n",
       "      <td>Mozilla/5.0 (Linux; Android 7.0; SM-J701F Buil...</td>\n",
       "      <td>https://google.com</td>\n",
       "      <td>1</td>\n",
       "    </tr>\n",
       "    <tr>\n",
       "      <th>3</th>\n",
       "      <td>4</td>\n",
       "      <td>X-Forwarded-For</td>\n",
       "      <td>42.106.0.185</td>\n",
       "      <td>Mozilla/5.0 (Linux; U; Android 4.2.2; en-us; i...</td>\n",
       "      <td>https://yahoo.com</td>\n",
       "      <td>1</td>\n",
       "    </tr>\n",
       "    <tr>\n",
       "      <th>4</th>\n",
       "      <td>5</td>\n",
       "      <td>X-Forwarded-For</td>\n",
       "      <td>106.207.113.91</td>\n",
       "      <td>Mozilla/5.0 (Linux; Android 7.0; Moto G (5) Pl...</td>\n",
       "      <td>https://google.com</td>\n",
       "      <td>1</td>\n",
       "    </tr>\n",
       "  </tbody>\n",
       "</table>\n",
       "</div>"
      ],
      "text/plain": [
       "   ID           Option              IP  \\\n",
       "0   1  X-Forwarded-For    47.29.76.109   \n",
       "1   2  X-Forwarded-For    47.29.76.239   \n",
       "2   3  X-Forwarded-For    47.29.30.157   \n",
       "3   4  X-Forwarded-For    42.106.0.185   \n",
       "4   5  X-Forwarded-For  106.207.113.91   \n",
       "\n",
       "                                           USERAGENT            Referrer  \\\n",
       "0  Mozilla/5.0 (Linux; Android 7.1.1; CPH1723 Bui...  https://google.com   \n",
       "1  Mozilla/5.0 (Linux; Android 7.1.1; CPH1723 Bui...   https://yahoo.com   \n",
       "2  Mozilla/5.0 (Linux; Android 7.0; SM-J701F Buil...  https://google.com   \n",
       "3  Mozilla/5.0 (Linux; U; Android 4.2.2; en-us; i...   https://yahoo.com   \n",
       "4  Mozilla/5.0 (Linux; Android 7.0; Moto G (5) Pl...  https://google.com   \n",
       "\n",
       "   WaitInSecs  \n",
       "0           1  \n",
       "1           1  \n",
       "2           1  \n",
       "3           1  \n",
       "4           1  "
      ]
     },
     "execution_count": 32,
     "metadata": {},
     "output_type": "execute_result"
    }
   ],
   "source": [
    "ds = pd.read_excel('header.xlsx')\n",
    "ds"
   ]
  }
 ],
 "metadata": {
  "kernelspec": {
   "display_name": "Python 3",
   "language": "python",
   "name": "python3"
  },
  "language_info": {
   "codemirror_mode": {
    "name": "ipython",
    "version": 3
   },
   "file_extension": ".py",
   "mimetype": "text/x-python",
   "name": "python",
   "nbconvert_exporter": "python",
   "pygments_lexer": "ipython3",
   "version": "3.6.8"
  }
 },
 "nbformat": 4,
 "nbformat_minor": 2
}
