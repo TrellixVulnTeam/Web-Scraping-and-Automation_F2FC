{
 "cells": [
  {
   "cell_type": "code",
   "execution_count": 1,
   "metadata": {},
   "outputs": [],
   "source": [
    "import pandas as pd"
   ]
  },
  {
   "cell_type": "code",
   "execution_count": 3,
   "metadata": {},
   "outputs": [
    {
     "ename": "FileNotFoundError",
     "evalue": "File b'Database/data.csv' does not exist",
     "output_type": "error",
     "traceback": [
      "\u001b[0;31m---------------------------------------------------------------------------\u001b[0m",
      "\u001b[0;31mFileNotFoundError\u001b[0m                         Traceback (most recent call last)",
      "\u001b[0;32m<ipython-input-3-32ab76e54c88>\u001b[0m in \u001b[0;36m<module>\u001b[0;34m\u001b[0m\n\u001b[0;32m----> 1\u001b[0;31m \u001b[0mdf\u001b[0m \u001b[0;34m=\u001b[0m \u001b[0mpd\u001b[0m\u001b[0;34m.\u001b[0m\u001b[0mread_csv\u001b[0m\u001b[0;34m(\u001b[0m\u001b[0;34m'Database/data.csv'\u001b[0m\u001b[0;34m)\u001b[0m\u001b[0;34m\u001b[0m\u001b[0;34m\u001b[0m\u001b[0m\n\u001b[0m",
      "\u001b[0;32m~/anaconda3/lib/python3.6/site-packages/pandas/io/parsers.py\u001b[0m in \u001b[0;36mparser_f\u001b[0;34m(filepath_or_buffer, sep, delimiter, header, names, index_col, usecols, squeeze, prefix, mangle_dupe_cols, dtype, engine, converters, true_values, false_values, skipinitialspace, skiprows, nrows, na_values, keep_default_na, na_filter, verbose, skip_blank_lines, parse_dates, infer_datetime_format, keep_date_col, date_parser, dayfirst, iterator, chunksize, compression, thousands, decimal, lineterminator, quotechar, quoting, escapechar, comment, encoding, dialect, tupleize_cols, error_bad_lines, warn_bad_lines, skipfooter, doublequote, delim_whitespace, low_memory, memory_map, float_precision)\u001b[0m\n\u001b[1;32m    676\u001b[0m                     skip_blank_lines=skip_blank_lines)\n\u001b[1;32m    677\u001b[0m \u001b[0;34m\u001b[0m\u001b[0m\n\u001b[0;32m--> 678\u001b[0;31m         \u001b[0;32mreturn\u001b[0m \u001b[0m_read\u001b[0m\u001b[0;34m(\u001b[0m\u001b[0mfilepath_or_buffer\u001b[0m\u001b[0;34m,\u001b[0m \u001b[0mkwds\u001b[0m\u001b[0;34m)\u001b[0m\u001b[0;34m\u001b[0m\u001b[0;34m\u001b[0m\u001b[0m\n\u001b[0m\u001b[1;32m    679\u001b[0m \u001b[0;34m\u001b[0m\u001b[0m\n\u001b[1;32m    680\u001b[0m     \u001b[0mparser_f\u001b[0m\u001b[0;34m.\u001b[0m\u001b[0m__name__\u001b[0m \u001b[0;34m=\u001b[0m \u001b[0mname\u001b[0m\u001b[0;34m\u001b[0m\u001b[0;34m\u001b[0m\u001b[0m\n",
      "\u001b[0;32m~/anaconda3/lib/python3.6/site-packages/pandas/io/parsers.py\u001b[0m in \u001b[0;36m_read\u001b[0;34m(filepath_or_buffer, kwds)\u001b[0m\n\u001b[1;32m    438\u001b[0m \u001b[0;34m\u001b[0m\u001b[0m\n\u001b[1;32m    439\u001b[0m     \u001b[0;31m# Create the parser.\u001b[0m\u001b[0;34m\u001b[0m\u001b[0;34m\u001b[0m\u001b[0;34m\u001b[0m\u001b[0m\n\u001b[0;32m--> 440\u001b[0;31m     \u001b[0mparser\u001b[0m \u001b[0;34m=\u001b[0m \u001b[0mTextFileReader\u001b[0m\u001b[0;34m(\u001b[0m\u001b[0mfilepath_or_buffer\u001b[0m\u001b[0;34m,\u001b[0m \u001b[0;34m**\u001b[0m\u001b[0mkwds\u001b[0m\u001b[0;34m)\u001b[0m\u001b[0;34m\u001b[0m\u001b[0;34m\u001b[0m\u001b[0m\n\u001b[0m\u001b[1;32m    441\u001b[0m \u001b[0;34m\u001b[0m\u001b[0m\n\u001b[1;32m    442\u001b[0m     \u001b[0;32mif\u001b[0m \u001b[0mchunksize\u001b[0m \u001b[0;32mor\u001b[0m \u001b[0miterator\u001b[0m\u001b[0;34m:\u001b[0m\u001b[0;34m\u001b[0m\u001b[0;34m\u001b[0m\u001b[0m\n",
      "\u001b[0;32m~/anaconda3/lib/python3.6/site-packages/pandas/io/parsers.py\u001b[0m in \u001b[0;36m__init__\u001b[0;34m(self, f, engine, **kwds)\u001b[0m\n\u001b[1;32m    785\u001b[0m             \u001b[0mself\u001b[0m\u001b[0;34m.\u001b[0m\u001b[0moptions\u001b[0m\u001b[0;34m[\u001b[0m\u001b[0;34m'has_index_names'\u001b[0m\u001b[0;34m]\u001b[0m \u001b[0;34m=\u001b[0m \u001b[0mkwds\u001b[0m\u001b[0;34m[\u001b[0m\u001b[0;34m'has_index_names'\u001b[0m\u001b[0;34m]\u001b[0m\u001b[0;34m\u001b[0m\u001b[0;34m\u001b[0m\u001b[0m\n\u001b[1;32m    786\u001b[0m \u001b[0;34m\u001b[0m\u001b[0m\n\u001b[0;32m--> 787\u001b[0;31m         \u001b[0mself\u001b[0m\u001b[0;34m.\u001b[0m\u001b[0m_make_engine\u001b[0m\u001b[0;34m(\u001b[0m\u001b[0mself\u001b[0m\u001b[0;34m.\u001b[0m\u001b[0mengine\u001b[0m\u001b[0;34m)\u001b[0m\u001b[0;34m\u001b[0m\u001b[0;34m\u001b[0m\u001b[0m\n\u001b[0m\u001b[1;32m    788\u001b[0m \u001b[0;34m\u001b[0m\u001b[0m\n\u001b[1;32m    789\u001b[0m     \u001b[0;32mdef\u001b[0m \u001b[0mclose\u001b[0m\u001b[0;34m(\u001b[0m\u001b[0mself\u001b[0m\u001b[0;34m)\u001b[0m\u001b[0;34m:\u001b[0m\u001b[0;34m\u001b[0m\u001b[0;34m\u001b[0m\u001b[0m\n",
      "\u001b[0;32m~/anaconda3/lib/python3.6/site-packages/pandas/io/parsers.py\u001b[0m in \u001b[0;36m_make_engine\u001b[0;34m(self, engine)\u001b[0m\n\u001b[1;32m   1012\u001b[0m     \u001b[0;32mdef\u001b[0m \u001b[0m_make_engine\u001b[0m\u001b[0;34m(\u001b[0m\u001b[0mself\u001b[0m\u001b[0;34m,\u001b[0m \u001b[0mengine\u001b[0m\u001b[0;34m=\u001b[0m\u001b[0;34m'c'\u001b[0m\u001b[0;34m)\u001b[0m\u001b[0;34m:\u001b[0m\u001b[0;34m\u001b[0m\u001b[0;34m\u001b[0m\u001b[0m\n\u001b[1;32m   1013\u001b[0m         \u001b[0;32mif\u001b[0m \u001b[0mengine\u001b[0m \u001b[0;34m==\u001b[0m \u001b[0;34m'c'\u001b[0m\u001b[0;34m:\u001b[0m\u001b[0;34m\u001b[0m\u001b[0;34m\u001b[0m\u001b[0m\n\u001b[0;32m-> 1014\u001b[0;31m             \u001b[0mself\u001b[0m\u001b[0;34m.\u001b[0m\u001b[0m_engine\u001b[0m \u001b[0;34m=\u001b[0m \u001b[0mCParserWrapper\u001b[0m\u001b[0;34m(\u001b[0m\u001b[0mself\u001b[0m\u001b[0;34m.\u001b[0m\u001b[0mf\u001b[0m\u001b[0;34m,\u001b[0m \u001b[0;34m**\u001b[0m\u001b[0mself\u001b[0m\u001b[0;34m.\u001b[0m\u001b[0moptions\u001b[0m\u001b[0;34m)\u001b[0m\u001b[0;34m\u001b[0m\u001b[0;34m\u001b[0m\u001b[0m\n\u001b[0m\u001b[1;32m   1015\u001b[0m         \u001b[0;32melse\u001b[0m\u001b[0;34m:\u001b[0m\u001b[0;34m\u001b[0m\u001b[0;34m\u001b[0m\u001b[0m\n\u001b[1;32m   1016\u001b[0m             \u001b[0;32mif\u001b[0m \u001b[0mengine\u001b[0m \u001b[0;34m==\u001b[0m \u001b[0;34m'python'\u001b[0m\u001b[0;34m:\u001b[0m\u001b[0;34m\u001b[0m\u001b[0;34m\u001b[0m\u001b[0m\n",
      "\u001b[0;32m~/anaconda3/lib/python3.6/site-packages/pandas/io/parsers.py\u001b[0m in \u001b[0;36m__init__\u001b[0;34m(self, src, **kwds)\u001b[0m\n\u001b[1;32m   1706\u001b[0m         \u001b[0mkwds\u001b[0m\u001b[0;34m[\u001b[0m\u001b[0;34m'usecols'\u001b[0m\u001b[0;34m]\u001b[0m \u001b[0;34m=\u001b[0m \u001b[0mself\u001b[0m\u001b[0;34m.\u001b[0m\u001b[0musecols\u001b[0m\u001b[0;34m\u001b[0m\u001b[0;34m\u001b[0m\u001b[0m\n\u001b[1;32m   1707\u001b[0m \u001b[0;34m\u001b[0m\u001b[0m\n\u001b[0;32m-> 1708\u001b[0;31m         \u001b[0mself\u001b[0m\u001b[0;34m.\u001b[0m\u001b[0m_reader\u001b[0m \u001b[0;34m=\u001b[0m \u001b[0mparsers\u001b[0m\u001b[0;34m.\u001b[0m\u001b[0mTextReader\u001b[0m\u001b[0;34m(\u001b[0m\u001b[0msrc\u001b[0m\u001b[0;34m,\u001b[0m \u001b[0;34m**\u001b[0m\u001b[0mkwds\u001b[0m\u001b[0;34m)\u001b[0m\u001b[0;34m\u001b[0m\u001b[0;34m\u001b[0m\u001b[0m\n\u001b[0m\u001b[1;32m   1709\u001b[0m \u001b[0;34m\u001b[0m\u001b[0m\n\u001b[1;32m   1710\u001b[0m         \u001b[0mpassed_names\u001b[0m \u001b[0;34m=\u001b[0m \u001b[0mself\u001b[0m\u001b[0;34m.\u001b[0m\u001b[0mnames\u001b[0m \u001b[0;32mis\u001b[0m \u001b[0;32mNone\u001b[0m\u001b[0;34m\u001b[0m\u001b[0;34m\u001b[0m\u001b[0m\n",
      "\u001b[0;32mpandas/_libs/parsers.pyx\u001b[0m in \u001b[0;36mpandas._libs.parsers.TextReader.__cinit__\u001b[0;34m()\u001b[0m\n",
      "\u001b[0;32mpandas/_libs/parsers.pyx\u001b[0m in \u001b[0;36mpandas._libs.parsers.TextReader._setup_parser_source\u001b[0;34m()\u001b[0m\n",
      "\u001b[0;31mFileNotFoundError\u001b[0m: File b'Database/data.csv' does not exist"
     ]
    }
   ],
   "source": [
    "df = pd.read_csv('Database/data.csv')"
   ]
  },
  {
   "cell_type": "code",
   "execution_count": 3,
   "metadata": {},
   "outputs": [
    {
     "data": {
      "text/html": [
       "<div>\n",
       "<style scoped>\n",
       "    .dataframe tbody tr th:only-of-type {\n",
       "        vertical-align: middle;\n",
       "    }\n",
       "\n",
       "    .dataframe tbody tr th {\n",
       "        vertical-align: top;\n",
       "    }\n",
       "\n",
       "    .dataframe thead th {\n",
       "        text-align: right;\n",
       "    }\n",
       "</style>\n",
       "<table border=\"1\" class=\"dataframe\">\n",
       "  <thead>\n",
       "    <tr style=\"text-align: right;\">\n",
       "      <th></th>\n",
       "      <th>Name</th>\n",
       "      <th>Email</th>\n",
       "      <th>Organization</th>\n",
       "      <th>Days</th>\n",
       "      <th>Dietary restrictions</th>\n",
       "      <th>Payment</th>\n",
       "    </tr>\n",
       "  </thead>\n",
       "  <tbody>\n",
       "    <tr>\n",
       "      <th>0</th>\n",
       "      <td>Salman Khan</td>\n",
       "      <td>salman@gmail.com</td>\n",
       "      <td>Bollywood</td>\n",
       "      <td>Day 1</td>\n",
       "      <td>None</td>\n",
       "      <td>Yes</td>\n",
       "    </tr>\n",
       "    <tr>\n",
       "      <th>1</th>\n",
       "      <td>Aamir Khan</td>\n",
       "      <td>aamir@yahoo.com</td>\n",
       "      <td>Hollywood</td>\n",
       "      <td>Day 2</td>\n",
       "      <td>Vegetarian</td>\n",
       "      <td>Yes</td>\n",
       "    </tr>\n",
       "    <tr>\n",
       "      <th>2</th>\n",
       "      <td>Akshay Kumar</td>\n",
       "      <td>akshay@microsoft.com</td>\n",
       "      <td>Tollywood</td>\n",
       "      <td>Day 3</td>\n",
       "      <td>Kosher</td>\n",
       "      <td>Yes</td>\n",
       "    </tr>\n",
       "    <tr>\n",
       "      <th>3</th>\n",
       "      <td>Deepika Padukone</td>\n",
       "      <td>deepika@rediff.com</td>\n",
       "      <td>Kollywood</td>\n",
       "      <td>Day 1</td>\n",
       "      <td>Gluten-free</td>\n",
       "      <td>Yes</td>\n",
       "    </tr>\n",
       "  </tbody>\n",
       "</table>\n",
       "</div>"
      ],
      "text/plain": [
       "               Name                 Email Organization   Days  \\\n",
       "0       Salman Khan      salman@gmail.com    Bollywood  Day 1   \n",
       "1        Aamir Khan       aamir@yahoo.com    Hollywood  Day 2   \n",
       "2      Akshay Kumar  akshay@microsoft.com    Tollywood  Day 3   \n",
       "3  Deepika Padukone    deepika@rediff.com    Kollywood  Day 1   \n",
       "\n",
       "  Dietary restrictions Payment  \n",
       "0                 None     Yes  \n",
       "1           Vegetarian     Yes  \n",
       "2               Kosher     Yes  \n",
       "3          Gluten-free     Yes  "
      ]
     },
     "execution_count": 3,
     "metadata": {},
     "output_type": "execute_result"
    }
   ],
   "source": [
    "df"
   ]
  },
  {
   "cell_type": "code",
   "execution_count": 8,
   "metadata": {},
   "outputs": [
    {
     "data": {
      "text/plain": [
       "'Salman Khan'"
      ]
     },
     "execution_count": 8,
     "metadata": {},
     "output_type": "execute_result"
    }
   ],
   "source": [
    "d = df.loc[0]\n",
    "d['Name']"
   ]
  },
  {
   "cell_type": "code",
   "execution_count": 9,
   "metadata": {},
   "outputs": [],
   "source": [
    "dietary_dict = {\n",
    "    \"None\": \"1\",\n",
    "    \"Vegetarian\": \"2\",\n",
    "    \"Vegan\": \"3\",\n",
    "    \"Kosher\": \"4\",\n",
    "    \"Gluten-free\": \"5\",\n",
    "    \"Other\": \"xx\"\n",
    "}\n",
    "df['Dietary restrictions'].replace(dietary_dict, inplace=True)"
   ]
  },
  {
   "cell_type": "code",
   "execution_count": 15,
   "metadata": {},
   "outputs": [],
   "source": [
    "days_dict = {\n",
    "    \"Day 1\":\"1\",\n",
    "    \"Day 2\":\"2\",\n",
    "    \"Day 3\":\"3\"\n",
    "}\n",
    "df['Days'].replace(days_dict, inplace=True)"
   ]
  },
  {
   "cell_type": "code",
   "execution_count": 28,
   "metadata": {},
   "outputs": [
    {
     "name": "stdout",
     "output_type": "stream",
     "text": [
      "Name                         Salman Khan\n",
      "Email                   salman@gmail.com\n",
      "Organization                   Bollywood\n",
      "Days                                   1\n",
      "Dietary restrictions                   1\n",
      "Payment                              Yes\n",
      "Name: 0, dtype: object\n",
      "Name                         Aamir Khan\n",
      "Email                   aamir@yahoo.com\n",
      "Organization                  Hollywood\n",
      "Days                                  2\n",
      "Dietary restrictions                  2\n",
      "Payment                             Yes\n",
      "Name: 1, dtype: object\n",
      "Name                            Akshay Kumar\n",
      "Email                   akshay@microsoft.com\n",
      "Organization                       Tollywood\n",
      "Days                                       3\n",
      "Dietary restrictions                       4\n",
      "Payment                                  Yes\n",
      "Name: 2, dtype: object\n",
      "Name                      Deepika Padukone\n",
      "Email                   deepika@rediff.com\n",
      "Organization                     Kollywood\n",
      "Days                                     1\n",
      "Dietary restrictions                     5\n",
      "Payment                                Yes\n",
      "Name: 3, dtype: object\n"
     ]
    }
   ],
   "source": [
    "for i in range(0,df.shape[0]):\n",
    "    print(df.loc[i])"
   ]
  },
  {
   "cell_type": "code",
   "execution_count": 31,
   "metadata": {},
   "outputs": [
    {
     "name": "stdout",
     "output_type": "stream",
     "text": [
      "{'Referer': 'https://google.com', 'X-Forwarded-For': '47.29.76.109', 'User-Agent': 'Mozilla/5.0 (Linux; Android 7.1.1; CPH1723 Build/N6F26Q; wv) AppleWebKit/537.36 (KHTML, like Gecko) Version/4.0 Chrome/67.0.3396.87 Mobile Safari/537.36'}\n",
      "{'Referer': 'https://yahoo.com', 'X-Forwarded-For': '47.29.76.239', 'User-Agent': 'Mozilla/5.0 (Linux; Android 7.1.1; CPH1723 Build/N6F26Q; wv) AppleWebKit/537.36 (KHTML, like Gecko) Version/4.0 Chrome/67.0.3396.87 Mobile Safari/537.36'}\n",
      "{'Referer': 'https://google.com', 'X-Forwarded-For': '47.29.30.157', 'User-Agent': 'Mozilla/5.0 (Linux; Android 7.0; SM-J701F Build/NRD90M; wv) AppleWebKit/537.36 (KHTML, like Gecko) Version/4.0 Chrome/67.0.3396.87 Mobile Safari/537.36'}\n",
      "{'Referer': 'https://yahoo.com', 'X-Forwarded-For': '42.106.0.185', 'User-Agent': 'Mozilla/5.0 (Linux; U; Android 4.2.2; en-us; iBall_Andi4.5_Ripple Build/JDQ39) AppleWebKit/534.30 (KHTML, like Gecko) Version/4.0 Mobile Safari/534.30'}\n",
      "{'Referer': 'https://google.com', 'X-Forwarded-For': '106.207.113.91', 'User-Agent': 'Mozilla/5.0 (Linux; Android 7.0; Moto G (5) Plus Build/NPN25.137-67-5; wv) AppleWebKit/537.36 (KHTML, like Gecko) Version/4.0 Chrome/64.0.3282.137 Mobile Safari/537.36'}\n"
     ]
    }
   ],
   "source": [
    "def automation():\n",
    "    headers = pd.read_excel('header.xlsx')\n",
    "    for i in range(0,headers.shape[0]):\n",
    "        dict = {}\n",
    "        header = headers.loc[i]\n",
    "        dict['Referer'] = header['Referrer']\n",
    "        dict[header['Option']] = header['IP']\n",
    "        dict['User-Agent'] = header['USERAGENT']\n",
    "        print(dict)\n",
    "        \n",
    "        \n",
    "        data = pd.read_csv('data.csv')\n",
    "        for j in range(0,data.shape[0]):\n",
    "            datum = data.loc[j]\n",
    "            formFilling(driver,datum)\n",
    "    return None    \n",
    "automation()"
   ]
  },
  {
   "cell_type": "code",
   "execution_count": 20,
   "metadata": {},
   "outputs": [],
   "source": [
    "def formFilling(driver,data):\n",
    "    # NAME\n",
    "    driver.find_element_by_xpath('//*[@id=\"mG61Hd\"]/div/div[2]/div[2]/div[1]/div/div[2]/div/div[1]/div/div[1]/input').send_keys(data['Name'])\n",
    "    \n",
    "    # EMAIL\n",
    "    driver.find_element_by_xpath('//*[@id=\"mG61Hd\"]/div/div[2]/div[2]/div[2]/div/div[2]/div/div[1]/div/div[1]/input').send_keys(data['Email'])\n",
    "    \n",
    "    # ORGANISATION\n",
    "    driver.find_element_by_xpath('//*[@id=\"mG61Hd\"]/div/div[2]/div[2]/div[3]/div/div[2]/div/div[1]/div/div[1]/input').send_keys(data['Organization'])\n",
    "    \n",
    "    # ATTENDANCE DAY \n",
    "    attendance_xpath = '//*[@id=\"mG61Hd\"]/div/div[2]/div[2]/div[4]/div/div[2]/div[' + data['Days'] + ']/div/label'\n",
    "    # Working Examples:\n",
    "    # //*[@id=\"mG61Hd\"]/div/div[2]/div[2]/div[4]/div/div[2]/div[1]/div/label\n",
    "    # //*[@id=\"mG61Hd\"]/div/div[2]/div[2]/div[4]/div/div[2]/div[2]/div/label\n",
    "    # //*[@id=\"mG61Hd\"]/div/div[2]/div[2]/div[4]/div/div[2]/div[3]/div/label\n",
    "    driver.find_element_by_xpath(attendance_xpath).click()\n",
    "    \n",
    "    # DIETARY RESTRICTION\n",
    "    # //*[@id=\"mG61Hd\"]/div/div[2]/div[2]/div[5]/div/div[2]/div/content/div/label[1]\n",
    "    # //*[@id=\"mG61Hd\"]/div/div[2]/div[2]/div[5]/div/div[2]/div/content/div/label[2]\n",
    "    # Other Option\n",
    "    # //*[@id=\"mG61Hd\"]/div/div[2]/div[2]/div[5]/div/div[2]/div/content/div/div\n",
    "    # //*[@id=\"mG61Hd\"]/div/div[2]/div[2]/div[5]/div/div[2]/div/content/div/div/div/content/div/div/div[1]/input\n",
    "    if data['Dietary restrictions'] == 'xx':\n",
    "        driver.find_element_by_xpath('//*[@id=\"mG61Hd\"]/div/div[2]/div[2]/div[5]/div/div[2]/div/content/div/div/label/div/div[1]/div[3]/div').click()\n",
    "        # Input Field\n",
    "        driver.find_element_by_xpath('//*[@id=\"mG61Hd\"]/div/div[2]/div[2]/div[5]/div/div[2]/div/content/div/div/div/content/div/div/div[1]/input').send_keys('None Provided')\n",
    "    else:    \n",
    "        dietary_xpath = '//*[@id=\"mG61Hd\"]/div/div[2]/div[2]/div[5]/div/div[2]/div/content/div/label['+ data['Dietary restrictions'] +']'\n",
    "        driver.find_element_by_xpath('').click()\n",
    "        \n",
    "    # PAY $$ ON ARRIVAL\n",
    "    driver.find_element_by_xpath('//*[@id=\"mG61Hd\"]/div/div[2]/div[2]/div[6]/div/div[2]/div/div/label').click()\n",
    "    \n",
    "    # SUBMIT\n",
    "    driver.find_element_by_xpath('//*[@id=\"mG61Hd\"]/div/div[2]/div[3]/div[1]/div/div/content/span').click()\n",
    "    \n",
    "    return None"
   ]
  },
  {
   "cell_type": "code",
   "execution_count": 32,
   "metadata": {},
   "outputs": [
    {
     "data": {
      "text/html": [
       "<div>\n",
       "<style scoped>\n",
       "    .dataframe tbody tr th:only-of-type {\n",
       "        vertical-align: middle;\n",
       "    }\n",
       "\n",
       "    .dataframe tbody tr th {\n",
       "        vertical-align: top;\n",
       "    }\n",
       "\n",
       "    .dataframe thead th {\n",
       "        text-align: right;\n",
       "    }\n",
       "</style>\n",
       "<table border=\"1\" class=\"dataframe\">\n",
       "  <thead>\n",
       "    <tr style=\"text-align: right;\">\n",
       "      <th></th>\n",
       "      <th>ID</th>\n",
       "      <th>Option</th>\n",
       "      <th>IP</th>\n",
       "      <th>USERAGENT</th>\n",
       "      <th>Referrer</th>\n",
       "      <th>WaitInSecs</th>\n",
       "    </tr>\n",
       "  </thead>\n",
       "  <tbody>\n",
       "    <tr>\n",
       "      <th>0</th>\n",
       "      <td>1</td>\n",
       "      <td>X-Forwarded-For</td>\n",
       "      <td>47.29.76.109</td>\n",
       "      <td>Mozilla/5.0 (Linux; Android 7.1.1; CPH1723 Bui...</td>\n",
       "      <td>https://google.com</td>\n",
       "      <td>1</td>\n",
       "    </tr>\n",
       "    <tr>\n",
       "      <th>1</th>\n",
       "      <td>2</td>\n",
       "      <td>X-Forwarded-For</td>\n",
       "      <td>47.29.76.239</td>\n",
       "      <td>Mozilla/5.0 (Linux; Android 7.1.1; CPH1723 Bui...</td>\n",
       "      <td>https://yahoo.com</td>\n",
       "      <td>1</td>\n",
       "    </tr>\n",
       "    <tr>\n",
       "      <th>2</th>\n",
       "      <td>3</td>\n",
       "      <td>X-Forwarded-For</td>\n",
       "      <td>47.29.30.157</td>\n",
       "      <td>Mozilla/5.0 (Linux; Android 7.0; SM-J701F Buil...</td>\n",
       "      <td>https://google.com</td>\n",
       "      <td>1</td>\n",
       "    </tr>\n",
       "    <tr>\n",
       "      <th>3</th>\n",
       "      <td>4</td>\n",
       "      <td>X-Forwarded-For</td>\n",
       "      <td>42.106.0.185</td>\n",
       "      <td>Mozilla/5.0 (Linux; U; Android 4.2.2; en-us; i...</td>\n",
       "      <td>https://yahoo.com</td>\n",
       "      <td>1</td>\n",
       "    </tr>\n",
       "    <tr>\n",
       "      <th>4</th>\n",
       "      <td>5</td>\n",
       "      <td>X-Forwarded-For</td>\n",
       "      <td>106.207.113.91</td>\n",
       "      <td>Mozilla/5.0 (Linux; Android 7.0; Moto G (5) Pl...</td>\n",
       "      <td>https://google.com</td>\n",
       "      <td>1</td>\n",
       "    </tr>\n",
       "  </tbody>\n",
       "</table>\n",
       "</div>"
      ],
      "text/plain": [
       "   ID           Option              IP  \\\n",
       "0   1  X-Forwarded-For    47.29.76.109   \n",
       "1   2  X-Forwarded-For    47.29.76.239   \n",
       "2   3  X-Forwarded-For    47.29.30.157   \n",
       "3   4  X-Forwarded-For    42.106.0.185   \n",
       "4   5  X-Forwarded-For  106.207.113.91   \n",
       "\n",
       "                                           USERAGENT            Referrer  \\\n",
       "0  Mozilla/5.0 (Linux; Android 7.1.1; CPH1723 Bui...  https://google.com   \n",
       "1  Mozilla/5.0 (Linux; Android 7.1.1; CPH1723 Bui...   https://yahoo.com   \n",
       "2  Mozilla/5.0 (Linux; Android 7.0; SM-J701F Buil...  https://google.com   \n",
       "3  Mozilla/5.0 (Linux; U; Android 4.2.2; en-us; i...   https://yahoo.com   \n",
       "4  Mozilla/5.0 (Linux; Android 7.0; Moto G (5) Pl...  https://google.com   \n",
       "\n",
       "   WaitInSecs  \n",
       "0           1  \n",
       "1           1  \n",
       "2           1  \n",
       "3           1  \n",
       "4           1  "
      ]
     },
     "execution_count": 32,
     "metadata": {},
     "output_type": "execute_result"
    }
   ],
   "source": [
    "ds = pd.read_excel('header.xlsx')\n",
    "ds"
   ]
  }
 ],
 "metadata": {
  "kernelspec": {
   "display_name": "Python 3",
   "language": "python",
   "name": "python3"
  },
  "language_info": {
   "codemirror_mode": {
    "name": "ipython",
    "version": 3
   },
   "file_extension": ".py",
   "mimetype": "text/x-python",
   "name": "python",
   "nbconvert_exporter": "python",
   "pygments_lexer": "ipython3",
   "version": "3.6.8"
  }
 },
 "nbformat": 4,
 "nbformat_minor": 2
}
